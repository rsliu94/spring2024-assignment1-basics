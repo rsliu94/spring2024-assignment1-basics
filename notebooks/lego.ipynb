{
 "cells": [
  {
   "cell_type": "code",
   "execution_count": 1,
   "metadata": {},
   "outputs": [
    {
     "name": "stdout",
     "output_type": "stream",
     "text": [
      "torch.Size([3, 4, 5])\n"
     ]
    }
   ],
   "source": [
    "import torch\n",
    "\n",
    "x = torch.randn([3, 4, 5])\n",
    "print(x.shape)\n"
   ]
  },
  {
   "cell_type": "code",
   "execution_count": 2,
   "metadata": {},
   "outputs": [
    {
     "data": {
      "text/plain": [
       "tensor([[[ 0.7658,  0.6226,  0.6717,  0.0662, -1.0256],\n",
       "         [-2.8379, -1.2581,  0.9488, -0.7173,  0.9952],\n",
       "         [-1.5395,  0.3030,  2.0150,  1.3423,  0.0315],\n",
       "         [ 1.1969, -0.2895, -0.3462, -1.5628,  0.1420]],\n",
       "\n",
       "        [[ 1.2434,  1.3299,  1.6568,  1.3563, -1.0754],\n",
       "         [ 1.5177,  0.8218,  0.3257, -2.5025, -0.1324],\n",
       "         [ 0.2868, -1.0215,  0.8582, -1.6023,  0.0504],\n",
       "         [ 0.9003, -1.3893,  0.2230,  0.7178,  1.3689]],\n",
       "\n",
       "        [[ 1.4601,  1.0456, -1.3448, -0.0512, -0.3065],\n",
       "         [-1.0301, -0.6792,  0.2995,  0.1646, -0.7947],\n",
       "         [ 0.4027,  1.0534, -0.4602,  0.6796,  0.3022],\n",
       "         [ 1.0796, -0.2235, -0.3241, -0.2496,  2.3131]]])"
      ]
     },
     "execution_count": 2,
     "metadata": {},
     "output_type": "execute_result"
    }
   ],
   "source": [
    "x"
   ]
  },
  {
   "cell_type": "code",
   "execution_count": 5,
   "metadata": {},
   "outputs": [
    {
     "data": {
      "text/plain": [
       "torch.Size([3, 4, 5])"
      ]
     },
     "execution_count": 5,
     "metadata": {},
     "output_type": "execute_result"
    }
   ],
   "source": [
    "torch.pow(x, 2).shape\n"
   ]
  },
  {
   "cell_type": "code",
   "execution_count": 7,
   "metadata": {},
   "outputs": [
    {
     "data": {
      "text/plain": [
       "torch.Size([3, 4, 1])"
      ]
     },
     "execution_count": 7,
     "metadata": {},
     "output_type": "execute_result"
    }
   ],
   "source": [
    "torch.sqrt(torch.pow(x, 2).mean(dim=-1, keepdim=True)).shape"
   ]
  },
  {
   "cell_type": "code",
   "execution_count": 5,
   "metadata": {},
   "outputs": [
    {
     "data": {
      "text/plain": [
       "tensor([[[0.4803],\n",
       "         [1.7673],\n",
       "         [0.9850],\n",
       "         [0.7846]],\n",
       "\n",
       "        [[1.3694],\n",
       "         [0.5279],\n",
       "         [0.7645],\n",
       "         [3.8881]],\n",
       "\n",
       "        [[1.0962],\n",
       "         [1.9859],\n",
       "         [0.2020],\n",
       "         [0.6675]]])"
      ]
     },
     "execution_count": 5,
     "metadata": {},
     "output_type": "execute_result"
    }
   ],
   "source": [
    "import torch\n",
    "x = torch.randn([3, 4, 5])\n",
    "max_val = torch.max(x, dim=-1, keepdim=True)[0]\n",
    "max_val\n",
    "\n"
   ]
  },
  {
   "cell_type": "code",
   "execution_count": 17,
   "metadata": {},
   "outputs": [],
   "source": [
    "x = torch.randn([3, 4, 5])"
   ]
  },
  {
   "cell_type": "code",
   "execution_count": 16,
   "metadata": {},
   "outputs": [
    {
     "data": {
      "text/plain": [
       "torch.Size([10])"
      ]
     },
     "execution_count": 16,
     "metadata": {},
     "output_type": "execute_result"
    }
   ],
   "source": [
    "torch.arange(10, dtype=torch.long).shape\n"
   ]
  },
  {
   "cell_type": "code",
   "execution_count": 18,
   "metadata": {},
   "outputs": [
    {
     "data": {
      "text/plain": [
       "tensor([[[ 0.4261,  0.2965, -0.6432, -0.4145,  0.9939],\n",
       "         [-0.1266,  1.7398, -1.9448,  0.4058, -0.3162],\n",
       "         [-0.6754,  0.5382,  0.5755, -0.0928,  2.0360],\n",
       "         [-0.8421, -1.2217,  2.1076,  0.2309, -0.2821]],\n",
       "\n",
       "        [[ 0.4014,  0.1394,  2.0088,  1.3208, -0.9650],\n",
       "         [ 0.0048,  1.9687,  0.5081, -0.1780,  0.3074],\n",
       "         [ 0.5716,  0.1326, -0.4747,  0.0950,  0.3835],\n",
       "         [-0.5189,  0.0647, -1.1119,  0.7874, -1.3882]],\n",
       "\n",
       "        [[-0.6415,  0.8218, -0.9574,  0.9448,  0.7023],\n",
       "         [ 0.2367, -1.2225,  0.6069, -0.0325,  0.7544],\n",
       "         [-0.4208,  1.4377,  0.4920,  0.5257, -0.3870],\n",
       "         [ 1.3711,  0.4020,  0.2347,  0.2145, -0.3299]]])"
      ]
     },
     "execution_count": 18,
     "metadata": {},
     "output_type": "execute_result"
    }
   ],
   "source": [
    "x"
   ]
  },
  {
   "cell_type": "code",
   "execution_count": 19,
   "metadata": {},
   "outputs": [
    {
     "ename": "RuntimeError",
     "evalue": "The size of tensor a (5) must match the size of tensor b (10) at non-singleton dimension 2",
     "output_type": "error",
     "traceback": [
      "\u001b[0;31m---------------------------------------------------------------------------\u001b[0m",
      "\u001b[0;31mRuntimeError\u001b[0m                              Traceback (most recent call last)",
      "Cell \u001b[0;32mIn[19], line 1\u001b[0m\n\u001b[0;32m----> 1\u001b[0m \u001b[43mx\u001b[49m\u001b[43m \u001b[49m\u001b[38;5;241;43m+\u001b[39;49m\u001b[43m \u001b[49m\u001b[43mtorch\u001b[49m\u001b[38;5;241;43m.\u001b[39;49m\u001b[43marange\u001b[49m\u001b[43m(\u001b[49m\u001b[38;5;241;43m10\u001b[39;49m\u001b[43m,\u001b[49m\u001b[43m \u001b[49m\u001b[43mdtype\u001b[49m\u001b[38;5;241;43m=\u001b[39;49m\u001b[43mtorch\u001b[49m\u001b[38;5;241;43m.\u001b[39;49m\u001b[43mlong\u001b[49m\u001b[43m)\u001b[49m\n",
      "\u001b[0;31mRuntimeError\u001b[0m: The size of tensor a (5) must match the size of tensor b (10) at non-singleton dimension 2"
     ]
    }
   ],
   "source": [
    "x + torch.arange(10, dtype=torch.long)"
   ]
  }
 ],
 "metadata": {
  "kernelspec": {
   "display_name": "Python 3",
   "language": "python",
   "name": "python3"
  },
  "language_info": {
   "codemirror_mode": {
    "name": "ipython",
    "version": 3
   },
   "file_extension": ".py",
   "mimetype": "text/x-python",
   "name": "python",
   "nbconvert_exporter": "python",
   "pygments_lexer": "ipython3",
   "version": "3.10.15"
  }
 },
 "nbformat": 4,
 "nbformat_minor": 2
}
