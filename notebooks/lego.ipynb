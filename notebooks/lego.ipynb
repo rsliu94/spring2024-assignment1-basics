{
 "cells": [
  {
   "cell_type": "code",
   "execution_count": 1,
   "metadata": {},
   "outputs": [
    {
     "name": "stdout",
     "output_type": "stream",
     "text": [
      "torch.Size([3, 4, 5])\n"
     ]
    }
   ],
   "source": [
    "import torch\n",
    "\n",
    "x = torch.randn([3, 4, 5])\n",
    "print(x.shape)\n"
   ]
  },
  {
   "cell_type": "code",
   "execution_count": 2,
   "metadata": {},
   "outputs": [
    {
     "data": {
      "text/plain": [
       "tensor([[[ 0.7658,  0.6226,  0.6717,  0.0662, -1.0256],\n",
       "         [-2.8379, -1.2581,  0.9488, -0.7173,  0.9952],\n",
       "         [-1.5395,  0.3030,  2.0150,  1.3423,  0.0315],\n",
       "         [ 1.1969, -0.2895, -0.3462, -1.5628,  0.1420]],\n",
       "\n",
       "        [[ 1.2434,  1.3299,  1.6568,  1.3563, -1.0754],\n",
       "         [ 1.5177,  0.8218,  0.3257, -2.5025, -0.1324],\n",
       "         [ 0.2868, -1.0215,  0.8582, -1.6023,  0.0504],\n",
       "         [ 0.9003, -1.3893,  0.2230,  0.7178,  1.3689]],\n",
       "\n",
       "        [[ 1.4601,  1.0456, -1.3448, -0.0512, -0.3065],\n",
       "         [-1.0301, -0.6792,  0.2995,  0.1646, -0.7947],\n",
       "         [ 0.4027,  1.0534, -0.4602,  0.6796,  0.3022],\n",
       "         [ 1.0796, -0.2235, -0.3241, -0.2496,  2.3131]]])"
      ]
     },
     "execution_count": 2,
     "metadata": {},
     "output_type": "execute_result"
    }
   ],
   "source": [
    "x"
   ]
  },
  {
   "cell_type": "code",
   "execution_count": 5,
   "metadata": {},
   "outputs": [
    {
     "data": {
      "text/plain": [
       "torch.Size([3, 4, 5])"
      ]
     },
     "execution_count": 5,
     "metadata": {},
     "output_type": "execute_result"
    }
   ],
   "source": [
    "torch.pow(x, 2).shape\n"
   ]
  },
  {
   "cell_type": "code",
   "execution_count": 7,
   "metadata": {},
   "outputs": [
    {
     "data": {
      "text/plain": [
       "torch.Size([3, 4, 1])"
      ]
     },
     "execution_count": 7,
     "metadata": {},
     "output_type": "execute_result"
    }
   ],
   "source": [
    "torch.sqrt(torch.pow(x, 2).mean(dim=-1, keepdim=True)).shape"
   ]
  }
 ],
 "metadata": {
  "kernelspec": {
   "display_name": "Python 3",
   "language": "python",
   "name": "python3"
  },
  "language_info": {
   "codemirror_mode": {
    "name": "ipython",
    "version": 3
   },
   "file_extension": ".py",
   "mimetype": "text/x-python",
   "name": "python",
   "nbconvert_exporter": "python",
   "pygments_lexer": "ipython3",
   "version": "3.10.15"
  }
 },
 "nbformat": 4,
 "nbformat_minor": 2
}
